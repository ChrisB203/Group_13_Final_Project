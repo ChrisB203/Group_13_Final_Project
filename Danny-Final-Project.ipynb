{
 "cells": [
  {
   "cell_type": "markdown",
   "metadata": {},
   "source": [
    "## Crime Rate\n",
    "By Danny Cohen"
   ]
  },
  {
   "cell_type": "code",
   "execution_count": 18,
   "metadata": {},
   "outputs": [],
   "source": [
    "import pandas as pd"
   ]
  },
  {
   "cell_type": "markdown",
   "metadata": {},
   "source": [
    "Let's first take a look at the raw data"
   ]
  },
  {
   "cell_type": "code",
   "execution_count": 23,
   "metadata": {},
   "outputs": [
    {
     "data": {
      "text/html": [
       "<div>\n",
       "<style scoped>\n",
       "    .dataframe tbody tr th:only-of-type {\n",
       "        vertical-align: middle;\n",
       "    }\n",
       "\n",
       "    .dataframe tbody tr th {\n",
       "        vertical-align: top;\n",
       "    }\n",
       "\n",
       "    .dataframe thead th {\n",
       "        text-align: right;\n",
       "    }\n",
       "</style>\n",
       "<table border=\"1\" class=\"dataframe\">\n",
       "  <thead>\n",
       "    <tr style=\"text-align: right;\">\n",
       "      <th></th>\n",
       "      <th>neighborhood</th>\n",
       "      <th>population</th>\n",
       "      <th>overall_crime_rate</th>\n",
       "      <th>number_arrests_murder</th>\n",
       "      <th>crime_rate_murder</th>\n",
       "      <th>number_arrests_rape</th>\n",
       "      <th>crime_rate_rape</th>\n",
       "      <th>number_arrests_robbery</th>\n",
       "      <th>crime_rate_robbery</th>\n",
       "      <th>number_arrests_assault</th>\n",
       "      <th>crime_rate_assault</th>\n",
       "      <th>number_arrests_burglary</th>\n",
       "      <th>crime_rate_burglary</th>\n",
       "      <th>number_arrests_larceny</th>\n",
       "      <th>crime_rate_larceny</th>\n",
       "    </tr>\n",
       "  </thead>\n",
       "  <tbody>\n",
       "    <tr>\n",
       "      <th>0</th>\n",
       "      <td>31st Ward</td>\n",
       "      <td>7594</td>\n",
       "      <td>2.03</td>\n",
       "      <td>0</td>\n",
       "      <td>0.00</td>\n",
       "      <td>1</td>\n",
       "      <td>0.01</td>\n",
       "      <td>7</td>\n",
       "      <td>0.09</td>\n",
       "      <td>45</td>\n",
       "      <td>0.60</td>\n",
       "      <td>55</td>\n",
       "      <td>0.73</td>\n",
       "      <td>45</td>\n",
       "      <td>0.60</td>\n",
       "    </tr>\n",
       "    <tr>\n",
       "      <th>1</th>\n",
       "      <td>Allegheny Center</td>\n",
       "      <td>588</td>\n",
       "      <td>52.04</td>\n",
       "      <td>0</td>\n",
       "      <td>0.00</td>\n",
       "      <td>2</td>\n",
       "      <td>0.34</td>\n",
       "      <td>24</td>\n",
       "      <td>4.08</td>\n",
       "      <td>30</td>\n",
       "      <td>5.10</td>\n",
       "      <td>14</td>\n",
       "      <td>2.38</td>\n",
       "      <td>236</td>\n",
       "      <td>40.14</td>\n",
       "    </tr>\n",
       "    <tr>\n",
       "      <th>2</th>\n",
       "      <td>Allegheny West</td>\n",
       "      <td>1159</td>\n",
       "      <td>14.33</td>\n",
       "      <td>1</td>\n",
       "      <td>0.09</td>\n",
       "      <td>3</td>\n",
       "      <td>0.26</td>\n",
       "      <td>16</td>\n",
       "      <td>1.38</td>\n",
       "      <td>17</td>\n",
       "      <td>1.47</td>\n",
       "      <td>53</td>\n",
       "      <td>4.57</td>\n",
       "      <td>76</td>\n",
       "      <td>6.56</td>\n",
       "    </tr>\n",
       "    <tr>\n",
       "      <th>3</th>\n",
       "      <td>Allentown</td>\n",
       "      <td>5042</td>\n",
       "      <td>3.13</td>\n",
       "      <td>0</td>\n",
       "      <td>0.00</td>\n",
       "      <td>1</td>\n",
       "      <td>0.08</td>\n",
       "      <td>23</td>\n",
       "      <td>0.46</td>\n",
       "      <td>41</td>\n",
       "      <td>0.81</td>\n",
       "      <td>48</td>\n",
       "      <td>0.95</td>\n",
       "      <td>45</td>\n",
       "      <td>0.89</td>\n",
       "    </tr>\n",
       "    <tr>\n",
       "      <th>4</th>\n",
       "      <td>Arlington</td>\n",
       "      <td>4758</td>\n",
       "      <td>2.50</td>\n",
       "      <td>0</td>\n",
       "      <td>0.00</td>\n",
       "      <td>0</td>\n",
       "      <td>0.00</td>\n",
       "      <td>7</td>\n",
       "      <td>0.15</td>\n",
       "      <td>33</td>\n",
       "      <td>0.69</td>\n",
       "      <td>44</td>\n",
       "      <td>0.92</td>\n",
       "      <td>35</td>\n",
       "      <td>0.74</td>\n",
       "    </tr>\n",
       "    <tr>\n",
       "      <th>5</th>\n",
       "      <td>Arlington Heights</td>\n",
       "      <td>1989</td>\n",
       "      <td>6.19</td>\n",
       "      <td>0</td>\n",
       "      <td>0.00</td>\n",
       "      <td>2</td>\n",
       "      <td>0.10</td>\n",
       "      <td>14</td>\n",
       "      <td>0.70</td>\n",
       "      <td>61</td>\n",
       "      <td>3.07</td>\n",
       "      <td>21</td>\n",
       "      <td>1.06</td>\n",
       "      <td>25</td>\n",
       "      <td>1.26</td>\n",
       "    </tr>\n",
       "    <tr>\n",
       "      <th>6</th>\n",
       "      <td>Banksville</td>\n",
       "      <td>6235</td>\n",
       "      <td>1.94</td>\n",
       "      <td>0</td>\n",
       "      <td>0.00</td>\n",
       "      <td>2</td>\n",
       "      <td>0.03</td>\n",
       "      <td>8</td>\n",
       "      <td>0.13</td>\n",
       "      <td>8</td>\n",
       "      <td>0.13</td>\n",
       "      <td>53</td>\n",
       "      <td>0.85</td>\n",
       "      <td>50</td>\n",
       "      <td>0.80</td>\n",
       "    </tr>\n",
       "    <tr>\n",
       "      <th>7</th>\n",
       "      <td>Bedford Dwellings</td>\n",
       "      <td>3635</td>\n",
       "      <td>2.64</td>\n",
       "      <td>1</td>\n",
       "      <td>0.03</td>\n",
       "      <td>4</td>\n",
       "      <td>0.11</td>\n",
       "      <td>11</td>\n",
       "      <td>0.30</td>\n",
       "      <td>25</td>\n",
       "      <td>0.69</td>\n",
       "      <td>36</td>\n",
       "      <td>0.99</td>\n",
       "      <td>19</td>\n",
       "      <td>0.52</td>\n",
       "    </tr>\n",
       "    <tr>\n",
       "      <th>8</th>\n",
       "      <td>Beechview</td>\n",
       "      <td>12965</td>\n",
       "      <td>1.98</td>\n",
       "      <td>1</td>\n",
       "      <td>0.01</td>\n",
       "      <td>1</td>\n",
       "      <td>0.01</td>\n",
       "      <td>26</td>\n",
       "      <td>0.20</td>\n",
       "      <td>43</td>\n",
       "      <td>0.33</td>\n",
       "      <td>84</td>\n",
       "      <td>0.65</td>\n",
       "      <td>101</td>\n",
       "      <td>0.78</td>\n",
       "    </tr>\n",
       "    <tr>\n",
       "      <th>9</th>\n",
       "      <td>Beltzhoover</td>\n",
       "      <td>5980</td>\n",
       "      <td>6.37</td>\n",
       "      <td>1</td>\n",
       "      <td>0.02</td>\n",
       "      <td>3</td>\n",
       "      <td>0.05</td>\n",
       "      <td>63</td>\n",
       "      <td>1.05</td>\n",
       "      <td>58</td>\n",
       "      <td>0.97</td>\n",
       "      <td>121</td>\n",
       "      <td>2.02</td>\n",
       "      <td>135</td>\n",
       "      <td>2.26</td>\n",
       "    </tr>\n",
       "  </tbody>\n",
       "</table>\n",
       "</div>"
      ],
      "text/plain": [
       "        neighborhood  population  overall_crime_rate  number_arrests_murder  \\\n",
       "0          31st Ward        7594                2.03                      0   \n",
       "1   Allegheny Center         588               52.04                      0   \n",
       "2     Allegheny West        1159               14.33                      1   \n",
       "3          Allentown        5042                3.13                      0   \n",
       "4          Arlington        4758                2.50                      0   \n",
       "5  Arlington Heights        1989                6.19                      0   \n",
       "6         Banksville        6235                1.94                      0   \n",
       "7  Bedford Dwellings        3635                2.64                      1   \n",
       "8          Beechview       12965                1.98                      1   \n",
       "9        Beltzhoover        5980                6.37                      1   \n",
       "\n",
       "   crime_rate_murder  number_arrests_rape  crime_rate_rape  \\\n",
       "0               0.00                    1             0.01   \n",
       "1               0.00                    2             0.34   \n",
       "2               0.09                    3             0.26   \n",
       "3               0.00                    1             0.08   \n",
       "4               0.00                    0             0.00   \n",
       "5               0.00                    2             0.10   \n",
       "6               0.00                    2             0.03   \n",
       "7               0.03                    4             0.11   \n",
       "8               0.01                    1             0.01   \n",
       "9               0.02                    3             0.05   \n",
       "\n",
       "   number_arrests_robbery  crime_rate_robbery  number_arrests_assault  \\\n",
       "0                       7                0.09                      45   \n",
       "1                      24                4.08                      30   \n",
       "2                      16                1.38                      17   \n",
       "3                      23                0.46                      41   \n",
       "4                       7                0.15                      33   \n",
       "5                      14                0.70                      61   \n",
       "6                       8                0.13                       8   \n",
       "7                      11                0.30                      25   \n",
       "8                      26                0.20                      43   \n",
       "9                      63                1.05                      58   \n",
       "\n",
       "   crime_rate_assault  number_arrests_burglary  crime_rate_burglary  \\\n",
       "0                0.60                       55                 0.73   \n",
       "1                5.10                       14                 2.38   \n",
       "2                1.47                       53                 4.57   \n",
       "3                0.81                       48                 0.95   \n",
       "4                0.69                       44                 0.92   \n",
       "5                3.07                       21                 1.06   \n",
       "6                0.13                       53                 0.85   \n",
       "7                0.69                       36                 0.99   \n",
       "8                0.33                       84                 0.65   \n",
       "9                0.97                      121                 2.02   \n",
       "\n",
       "   number_arrests_larceny  crime_rate_larceny  \n",
       "0                      45                0.60  \n",
       "1                     236               40.14  \n",
       "2                      76                6.56  \n",
       "3                      45                0.89  \n",
       "4                      35                0.74  \n",
       "5                      25                1.26  \n",
       "6                      50                0.80  \n",
       "7                      19                0.52  \n",
       "8                     101                0.78  \n",
       "9                     135                2.26  "
      ]
     },
     "execution_count": 23,
     "metadata": {},
     "output_type": "execute_result"
    }
   ],
   "source": [
    "arrests = pd.read_csv(\"arrests.csv\")\n",
    "arrests.head(10)"
   ]
  },
  {
   "cell_type": "markdown",
   "metadata": {},
   "source": [
    "Before we analyze the data, it is important to get an actual understanding of the data itself. Measures such as the **mean** and **median**, and creating a **histogram** of the population will give us a good idea of the population distribution throughout the neighborhoods."
   ]
  },
  {
   "cell_type": "code",
   "execution_count": 3,
   "metadata": {},
   "outputs": [
    {
     "name": "stdout",
     "output_type": "stream",
     "text": [
      "Mean: 7077 Median: 6127\n"
     ]
    },
    {
     "data": {
      "text/plain": [
       "<matplotlib.axes._subplots.AxesSubplot at 0x7f2752b9b190>"
      ]
     },
     "execution_count": 3,
     "metadata": {},
     "output_type": "execute_result"
    },
    {
     "data": {
      "image/png": "[encoded data removed]",
      "text/plain": [
       "<Figure size 432x288 with 1 Axes>"
      ]
     },
     "metadata": {
      "needs_background": "light"
     },
     "output_type": "display_data"
    }
   ],
   "source": [
    "#Data frame of only population to make mean/median functions easier\n",
    "population_df = arrests['population']\n",
    "#Helps determine a population filter\n",
    "print(\"Mean:\", round(population_df.mean()), \"Median:\", round(population_df.median()))\n",
    "\n",
    "population_df.hist()"
   ]
  },
  {
   "cell_type": "markdown",
   "metadata": {},
   "source": [
    "We can also represent this as a **box plot**"
   ]
  },
  {
   "cell_type": "code",
   "execution_count": 4,
   "metadata": {},
   "outputs": [
    {
     "data": {
      "text/plain": [
       "<matplotlib.axes._subplots.AxesSubplot at 0x7f2751f47f70>"
      ]
     },
     "execution_count": 4,
     "metadata": {},
     "output_type": "execute_result"
    },
    {
     "data": {
      "image/png": "[encoded data removed]",
      "text/plain": [
       "<Figure size 432x288 with 1 Axes>"
      ]
     },
     "metadata": {
      "needs_background": "light"
     },
     "output_type": "display_data"
    }
   ],
   "source": [
    "population_df.plot(kind = \"box\")"
   ]
  },
  {
   "cell_type": "markdown",
   "metadata": {},
   "source": [
    "It is also important to see if there's a strong relationship between population and crime rate in order to decide if a population threshold is necessary. A **scatterplot** is a very good representation of the relationship between the two variables"
   ]
  },
  {
   "cell_type": "code",
   "execution_count": 5,
   "metadata": {},
   "outputs": [
    {
     "data": {
      "text/plain": [
       "<matplotlib.axes._subplots.AxesSubplot at 0x7f2751ec41f0>"
      ]
     },
     "execution_count": 5,
     "metadata": {},
     "output_type": "execute_result"
    },
    {
     "data": {
      "image/png": "[encoded data removed]",
      "text/plain": [
       "<Figure size 432x288 with 1 Axes>"
      ]
     },
     "metadata": {
      "needs_background": "light"
     },
     "output_type": "display_data"
    }
   ],
   "source": [
    "arrests[['population', 'overall_crime_rate']].sort_values(by=['overall_crime_rate'])\n",
    "arrests.plot.scatter(x=\"population\", y=\"overall_crime_rate\")"
   ]
  },
  {
   "cell_type": "code",
   "execution_count": null,
   "metadata": {},
   "outputs": [],
   "source": []
  },
  {
   "cell_type": "markdown",
   "metadata": {},
   "source": [
    "Here, we see that aside from a few outliers, there is a very weak correlation between population and crime rate; as a result, a population threshold will not be used."
   ]
  },
  {
   "cell_type": "markdown",
   "metadata": {},
   "source": [
    "Now that we understand what our data will look like, we need to get rid of unnecessary columns. For the sake of this project, all major crimes will be weighed the same, so we only care about the overall crime rate, not the specific crime."
   ]
  },
  {
   "cell_type": "markdown",
   "metadata": {},
   "source": [
    "Let's take a look at the data set sorted by overall crime rate"
   ]
  },
  {
   "cell_type": "code",
   "execution_count": 6,
   "metadata": {},
   "outputs": [
    {
     "data": {
      "text/html": [
       "<div>\n",
       "<style scoped>\n",
       "    .dataframe tbody tr th:only-of-type {\n",
       "        vertical-align: middle;\n",
       "    }\n",
       "\n",
       "    .dataframe tbody tr th {\n",
       "        vertical-align: top;\n",
       "    }\n",
       "\n",
       "    .dataframe thead th {\n",
       "        text-align: right;\n",
       "    }\n",
       "</style>\n",
       "<table border=\"1\" class=\"dataframe\">\n",
       "  <thead>\n",
       "    <tr style=\"text-align: right;\">\n",
       "      <th></th>\n",
       "      <th>neighborhood</th>\n",
       "      <th>overall_crime_rate</th>\n",
       "    </tr>\n",
       "  </thead>\n",
       "  <tbody>\n",
       "    <tr>\n",
       "      <th>27</th>\n",
       "      <td>Harpen Hilltop</td>\n",
       "      <td>0.99</td>\n",
       "    </tr>\n",
       "    <tr>\n",
       "      <th>17</th>\n",
       "      <td>Crafton Heights - Westwood - Oakwood</td>\n",
       "      <td>1.41</td>\n",
       "    </tr>\n",
       "    <tr>\n",
       "      <th>41</th>\n",
       "      <td>Morningside</td>\n",
       "      <td>1.61</td>\n",
       "    </tr>\n",
       "    <tr>\n",
       "      <th>12</th>\n",
       "      <td>Brighton Heights</td>\n",
       "      <td>1.64</td>\n",
       "    </tr>\n",
       "    <tr>\n",
       "      <th>22</th>\n",
       "      <td>Elliot</td>\n",
       "      <td>1.70</td>\n",
       "    </tr>\n",
       "    <tr>\n",
       "      <th>...</th>\n",
       "      <td>...</td>\n",
       "      <td>...</td>\n",
       "    </tr>\n",
       "    <tr>\n",
       "      <th>69</th>\n",
       "      <td>West End Valley</td>\n",
       "      <td>13.73</td>\n",
       "    </tr>\n",
       "    <tr>\n",
       "      <th>2</th>\n",
       "      <td>Allegheny West</td>\n",
       "      <td>14.33</td>\n",
       "    </tr>\n",
       "    <tr>\n",
       "      <th>20</th>\n",
       "      <td>East Liberty</td>\n",
       "      <td>16.63</td>\n",
       "    </tr>\n",
       "    <tr>\n",
       "      <th>62</th>\n",
       "      <td>The Strip</td>\n",
       "      <td>33.56</td>\n",
       "    </tr>\n",
       "    <tr>\n",
       "      <th>1</th>\n",
       "      <td>Allegheny Center</td>\n",
       "      <td>52.04</td>\n",
       "    </tr>\n",
       "  </tbody>\n",
       "</table>\n",
       "<p>70 rows × 2 columns</p>\n",
       "</div>"
      ],
      "text/plain": [
       "                            neighborhood  overall_crime_rate\n",
       "27                        Harpen Hilltop                0.99\n",
       "17  Crafton Heights - Westwood - Oakwood                1.41\n",
       "41                           Morningside                1.61\n",
       "12                      Brighton Heights                1.64\n",
       "22                                Elliot                1.70\n",
       "..                                   ...                 ...\n",
       "69                       West End Valley               13.73\n",
       "2                         Allegheny West               14.33\n",
       "20                          East Liberty               16.63\n",
       "62                             The Strip               33.56\n",
       "1                       Allegheny Center               52.04\n",
       "\n",
       "[70 rows x 2 columns]"
      ]
     },
     "execution_count": 6,
     "metadata": {},
     "output_type": "execute_result"
    }
   ],
   "source": [
    "#Get rid of unnecessary columns and sorts by overall crime rate\n",
    "filtered_df = arrests[['neighborhood', 'overall_crime_rate']]\n",
    "filtered_df.sort_values(by=['overall_crime_rate'])"
   ]
  },
  {
   "cell_type": "code",
   "execution_count": null,
   "metadata": {},
   "outputs": [],
   "source": []
  },
  {
   "cell_type": "markdown",
   "metadata": {},
   "source": [
    "Now that our dataset is sorted by overall crime rate, we will assign a numerical value to each neighborhood. Rather than using a neighborhood's crime rate as a value, we will rank the neighborhoods 1 to 70 based on their respective crime rates. This way, we will have a controlled value to compare the metrics across all three datasets. "
   ]
  },
  {
   "cell_type": "code",
   "execution_count": 7,
   "metadata": {},
   "outputs": [
    {
     "name": "stderr",
     "output_type": "stream",
     "text": [
      "<ipython-input-7-eca8d2d31d42>:2: SettingWithCopyWarning: \n",
      "A value is trying to be set on a copy of a slice from a DataFrame.\n",
      "Try using .loc[row_indexer,col_indexer] = value instead\n",
      "\n",
      "See the caveats in the documentation: https://pandas.pydata.org/pandas-docs/stable/user_guide/indexing.html#returning-a-view-versus-a-copy\n",
      "  filtered_df['rank'] = filtered_df['overall_crime_rate'].rank(ascending = True)\n"
     ]
    }
   ],
   "source": [
    "#Add column that ranks the neighborhoods from lowest crime rate to highest; stores a value 1 to 70\n",
    "filtered_df['rank'] = filtered_df['overall_crime_rate'].rank(ascending = True)\n",
    "\n",
    "#Creates new data frame that sorts values by rank\n",
    "ranked_df = filtered_df[['neighborhood', 'rank']]\n",
    "final_df = ranked_df.sort_values(by=['rank'])"
   ]
  },
  {
   "cell_type": "markdown",
   "metadata": {},
   "source": [
    "Let's take a look at the 10 safest neighborhoods in terms of overall crime rate"
   ]
  },
  {
   "cell_type": "code",
   "execution_count": 8,
   "metadata": {},
   "outputs": [
    {
     "data": {
      "text/html": [
       "<div>\n",
       "<style scoped>\n",
       "    .dataframe tbody tr th:only-of-type {\n",
       "        vertical-align: middle;\n",
       "    }\n",
       "\n",
       "    .dataframe tbody tr th {\n",
       "        vertical-align: top;\n",
       "    }\n",
       "\n",
       "    .dataframe thead th {\n",
       "        text-align: right;\n",
       "    }\n",
       "</style>\n",
       "<table border=\"1\" class=\"dataframe\">\n",
       "  <thead>\n",
       "    <tr style=\"text-align: right;\">\n",
       "      <th></th>\n",
       "      <th>neighborhood</th>\n",
       "      <th>rank</th>\n",
       "    </tr>\n",
       "  </thead>\n",
       "  <tbody>\n",
       "    <tr>\n",
       "      <th>27</th>\n",
       "      <td>Harpen Hilltop</td>\n",
       "      <td>1.0</td>\n",
       "    </tr>\n",
       "    <tr>\n",
       "      <th>17</th>\n",
       "      <td>Crafton Heights - Westwood - Oakwood</td>\n",
       "      <td>2.0</td>\n",
       "    </tr>\n",
       "    <tr>\n",
       "      <th>41</th>\n",
       "      <td>Morningside</td>\n",
       "      <td>3.0</td>\n",
       "    </tr>\n",
       "    <tr>\n",
       "      <th>12</th>\n",
       "      <td>Brighton Heights</td>\n",
       "      <td>4.0</td>\n",
       "    </tr>\n",
       "    <tr>\n",
       "      <th>22</th>\n",
       "      <td>Elliot</td>\n",
       "      <td>5.0</td>\n",
       "    </tr>\n",
       "    <tr>\n",
       "      <th>63</th>\n",
       "      <td>Swisshelm Park</td>\n",
       "      <td>6.0</td>\n",
       "    </tr>\n",
       "    <tr>\n",
       "      <th>66</th>\n",
       "      <td>Troy Hill</td>\n",
       "      <td>7.0</td>\n",
       "    </tr>\n",
       "    <tr>\n",
       "      <th>51</th>\n",
       "      <td>Shadeland Halls Grove</td>\n",
       "      <td>8.0</td>\n",
       "    </tr>\n",
       "    <tr>\n",
       "      <th>68</th>\n",
       "      <td>Upper Lawrenceville</td>\n",
       "      <td>9.0</td>\n",
       "    </tr>\n",
       "    <tr>\n",
       "      <th>56</th>\n",
       "      <td>Southside Slopes</td>\n",
       "      <td>10.5</td>\n",
       "    </tr>\n",
       "  </tbody>\n",
       "</table>\n",
       "</div>"
      ],
      "text/plain": [
       "                            neighborhood  rank\n",
       "27                        Harpen Hilltop   1.0\n",
       "17  Crafton Heights - Westwood - Oakwood   2.0\n",
       "41                           Morningside   3.0\n",
       "12                      Brighton Heights   4.0\n",
       "22                                Elliot   5.0\n",
       "63                        Swisshelm Park   6.0\n",
       "66                             Troy Hill   7.0\n",
       "51                 Shadeland Halls Grove   8.0\n",
       "68                   Upper Lawrenceville   9.0\n",
       "56                      Southside Slopes  10.5"
      ]
     },
     "execution_count": 8,
     "metadata": {},
     "output_type": "execute_result"
    }
   ],
   "source": [
    "final_df.head(10)"
   ]
  },
  {
   "cell_type": "raw",
   "metadata": {},
   "source": [
    "Now let's check out the bottom 10"
   ]
  },
  {
   "cell_type": "code",
   "execution_count": 9,
   "metadata": {},
   "outputs": [
    {
     "data": {
      "text/html": [
       "<div>\n",
       "<style scoped>\n",
       "    .dataframe tbody tr th:only-of-type {\n",
       "        vertical-align: middle;\n",
       "    }\n",
       "\n",
       "    .dataframe tbody tr th {\n",
       "        vertical-align: top;\n",
       "    }\n",
       "\n",
       "    .dataframe thead th {\n",
       "        text-align: right;\n",
       "    }\n",
       "</style>\n",
       "<table border=\"1\" class=\"dataframe\">\n",
       "  <thead>\n",
       "    <tr style=\"text-align: right;\">\n",
       "      <th></th>\n",
       "      <th>neighborhood</th>\n",
       "      <th>rank</th>\n",
       "    </tr>\n",
       "  </thead>\n",
       "  <tbody>\n",
       "    <tr>\n",
       "      <th>40</th>\n",
       "      <td>Middle Hill</td>\n",
       "      <td>61.0</td>\n",
       "    </tr>\n",
       "    <tr>\n",
       "      <th>39</th>\n",
       "      <td>Manchester</td>\n",
       "      <td>62.0</td>\n",
       "    </tr>\n",
       "    <tr>\n",
       "      <th>16</th>\n",
       "      <td>Central North Side</td>\n",
       "      <td>63.0</td>\n",
       "    </tr>\n",
       "    <tr>\n",
       "      <th>65</th>\n",
       "      <td>The Bluff</td>\n",
       "      <td>64.0</td>\n",
       "    </tr>\n",
       "    <tr>\n",
       "      <th>38</th>\n",
       "      <td>Lower Oakland</td>\n",
       "      <td>65.0</td>\n",
       "    </tr>\n",
       "    <tr>\n",
       "      <th>69</th>\n",
       "      <td>West End Valley</td>\n",
       "      <td>66.0</td>\n",
       "    </tr>\n",
       "    <tr>\n",
       "      <th>2</th>\n",
       "      <td>Allegheny West</td>\n",
       "      <td>67.0</td>\n",
       "    </tr>\n",
       "    <tr>\n",
       "      <th>20</th>\n",
       "      <td>East Liberty</td>\n",
       "      <td>68.0</td>\n",
       "    </tr>\n",
       "    <tr>\n",
       "      <th>62</th>\n",
       "      <td>The Strip</td>\n",
       "      <td>69.0</td>\n",
       "    </tr>\n",
       "    <tr>\n",
       "      <th>1</th>\n",
       "      <td>Allegheny Center</td>\n",
       "      <td>70.0</td>\n",
       "    </tr>\n",
       "  </tbody>\n",
       "</table>\n",
       "</div>"
      ],
      "text/plain": [
       "          neighborhood  rank\n",
       "40         Middle Hill  61.0\n",
       "39          Manchester  62.0\n",
       "16  Central North Side  63.0\n",
       "65           The Bluff  64.0\n",
       "38       Lower Oakland  65.0\n",
       "69     West End Valley  66.0\n",
       "2       Allegheny West  67.0\n",
       "20        East Liberty  68.0\n",
       "62           The Strip  69.0\n",
       "1     Allegheny Center  70.0"
      ]
     },
     "execution_count": 9,
     "metadata": {},
     "output_type": "execute_result"
    }
   ],
   "source": [
    "final_df.tail(10)"
   ]
  },
  {
   "cell_type": "code",
   "execution_count": null,
   "metadata": {},
   "outputs": [],
   "source": []
  },
  {
   "cell_type": "code",
   "execution_count": null,
   "metadata": {},
   "outputs": [],
   "source": []
  }
 ],
 "metadata": {
  "kernelspec": {
   "display_name": "Python 3",
   "language": "python",
   "name": "python3"
  },
  "language_info": {
   "codemirror_mode": {
    "name": "ipython",
    "version": 3
   },
   "file_extension": ".py",
   "mimetype": "text/x-python",
   "name": "python",
   "nbconvert_exporter": "python",
   "pygments_lexer": "ipython3",
   "version": "3.8.3"
  }
 },
 "nbformat": 4,
 "nbformat_minor": 4
}
